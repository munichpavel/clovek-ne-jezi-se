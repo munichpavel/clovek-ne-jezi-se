{
 "cells": [
  {
   "cell_type": "markdown",
   "metadata": {},
   "source": [
    "# Clovek ne jezi se (aka Mensch aergere dich nicht)\n",
    "\n"
   ]
  },
  {
   "cell_type": "markdown",
   "metadata": {},
   "source": [
    "## Agents\n",
    "\n",
    "Agents are a container for different game policies.\n"
   ]
  },
  {
   "cell_type": "code",
   "execution_count": 1,
   "metadata": {},
   "outputs": [],
   "source": [
    "import numpy as np\n",
    "from random import randint\n",
    "\n",
    "from clovek_ne_jezi_se.game import Board, Game, Move\n",
    "from clovek_ne_jezi_se.agent import Player, FurthestAlongAgent"
   ]
  },
  {
   "cell_type": "markdown",
   "metadata": {},
   "source": [
    "## Game\n",
    "\n",
    "### Game state\n",
    "\n",
    "The game state is represented by a triple of arrays: $(waiting, spaces, homes)$."
   ]
  },
  {
   "cell_type": "code",
   "execution_count": 2,
   "metadata": {},
   "outputs": [
    {
     "data": {
      "text/plain": [
       "\n",
       "    -------------\n",
       "    | - | - | - |\n",
       "----------------------\n",
       "| - | - |    | - | - |\n",
       "--------      -------|\n",
       "| - |            | - |\n",
       "--------      -------|\n",
       "| - | - |    | - | - |\n",
       "----------------------\n",
       "    | - | - | - |\n",
       "    -------------\n",
       "player blue pieces in waiting area: 4 \n",
       "player blue home: - | - | - | -\n",
       "\n",
       "player green pieces in waiting area: 4 \n",
       "player green home: - | - | - | -\n",
       "\n",
       "player red pieces in waiting area: 4 \n",
       "player red home: - | - | - | -\n",
       "\n",
       "player yellow pieces in waiting area: 4 \n",
       "player yellow home: - | - | - | -"
      ]
     },
     "execution_count": 2,
     "metadata": {},
     "output_type": "execute_result"
    }
   ],
   "source": [
    "symbols = ['blue', 'green', 'red', 'yellow']\n",
    "players = []\n",
    "for symbol in symbols:\n",
    "    player = Player(symbol=symbol, number_of_players=4)\n",
    "    player.initialize_home()\n",
    "    players.append(player)\n",
    "game = Game(players)\n",
    "game.initialize()\n",
    "game.board"
   ]
  },
  {
   "cell_type": "markdown",
   "metadata": {},
   "source": [
    "### Game moves and actions\n",
    "\n",
    "Given a dice roll, an action is a choice among valid moves of\n",
    "\n",
    "* *leave waiting*: From waiting area to player start space upon rolling a 6\n",
    "* *space advance*: Move within spaces (main playing board)\n",
    "* *space to home*: Move from spaces to player's home area\n",
    "* *home advance*: Move within player's home area\n",
    "\n",
    "Validity checks are implemented for each of these (e.g. the end position must be unoccupied).\n",
    "\n",
    "Moves are created in `Game.move_factory`, which includes validation checks."
   ]
  },
  {
   "cell_type": "code",
   "execution_count": 3,
   "metadata": {},
   "outputs": [
    {
     "data": {
      "text/plain": [
       "[Move(symbol='red', kind='leave_waiting', roll=6, start=None)]"
      ]
     },
     "execution_count": 3,
     "metadata": {},
     "output_type": "execute_result"
    }
   ],
   "source": [
    "# Valid move\n",
    "game.move_factory(symbol='red', kind='leave_waiting', roll=6)"
   ]
  },
  {
   "cell_type": "code",
   "execution_count": 4,
   "metadata": {},
   "outputs": [
    {
     "name": "stdout",
     "output_type": "stream",
     "text": [
      "Invalid move entered: Move(symbol='red', kind='leave_waiting', roll=5, start=None)\n",
      "Invalid move entered: Move(symbol='red', kind='space_advance', roll=1, start=7)\n"
     ]
    }
   ],
   "source": [
    "# Invalid move: May only leave waiting area if a 6 is rolled\n",
    "try: \n",
    "    game.move_factory(symbol='red', kind='leave_waiting', roll=5)\n",
    "except ValueError as err:\n",
    "    print(err)\n",
    "\n",
    "# Invalid move: Advancing beyond \"pre-home\" position is space_to_home, not space_advance\n",
    "try:\n",
    "    game.move_factory(\n",
    "        symbol='red', kind='space_advance', roll=1, start=game.get_player('red').get_prehome_position()\n",
    "    )\n",
    "except ValueError as err:\n",
    "    print(err)"
   ]
  },
  {
   "cell_type": "code",
   "execution_count": 5,
   "metadata": {},
   "outputs": [
    {
     "data": {
      "text/plain": [
       "\n",
       "    -------------\n",
       "    | - | - | red |\n",
       "----------------------\n",
       "| - | - |    | - | - |\n",
       "--------      -------|\n",
       "| - |            | - |\n",
       "--------      -------|\n",
       "| - | - |    | - | - |\n",
       "----------------------\n",
       "    | - | - | - |\n",
       "    -------------\n",
       "player blue pieces in waiting area: 4 \n",
       "player blue home: - | - | - | -\n",
       "\n",
       "player green pieces in waiting area: 4 \n",
       "player green home: - | - | - | -\n",
       "\n",
       "player red pieces in waiting area: 3 \n",
       "player red home: - | - | - | -\n",
       "\n",
       "player yellow pieces in waiting area: 4 \n",
       "player yellow home: - | - | - | -"
      ]
     },
     "execution_count": 5,
     "metadata": {},
     "output_type": "execute_result"
    }
   ],
   "source": [
    "game.do('red', 'leave_waiting', roll=6)\n",
    "game.board"
   ]
  },
  {
   "cell_type": "code",
   "execution_count": 6,
   "metadata": {},
   "outputs": [
    {
     "name": "stdout",
     "output_type": "stream",
     "text": [
      "Invalid move entered: Move(symbol='red', kind='leave_waiting', roll=5, start=None) - board not updated\n"
     ]
    }
   ],
   "source": [
    "game.do('red', 'leave_waiting', roll=5)"
   ]
  },
  {
   "cell_type": "code",
   "execution_count": 7,
   "metadata": {},
   "outputs": [
    {
     "data": {
      "text/plain": [
       "\n",
       "    -------------\n",
       "    | - | - | red |\n",
       "----------------------\n",
       "| - | - |    | - | - |\n",
       "--------      -------|\n",
       "| - |            | - |\n",
       "--------      -------|\n",
       "| - | - |    | - | yellow |\n",
       "----------------------\n",
       "    | - | - | - |\n",
       "    -------------\n",
       "player blue pieces in waiting area: 4 \n",
       "player blue home: - | - | - | -\n",
       "\n",
       "player green pieces in waiting area: 4 \n",
       "player green home: - | - | - | -\n",
       "\n",
       "player red pieces in waiting area: 3 \n",
       "player red home: - | - | - | -\n",
       "\n",
       "player yellow pieces in waiting area: 3 \n",
       "player yellow home: - | - | - | -"
      ]
     },
     "execution_count": 7,
     "metadata": {},
     "output_type": "execute_result"
    }
   ],
   "source": [
    "game.do('yellow', 'leave_waiting', roll=6)\n",
    "game.board"
   ]
  },
  {
   "cell_type": "code",
   "execution_count": 8,
   "metadata": {},
   "outputs": [
    {
     "data": {
      "text/plain": [
       "[Move(symbol='red', kind='space_advance', roll=4, start=8),\n",
       " Move(symbol='yellow', kind='return_to_waiting', roll=None, start=12)]"
      ]
     },
     "execution_count": 8,
     "metadata": {},
     "output_type": "execute_result"
    }
   ],
   "source": [
    "game.get_moves_of('red', 'space_advance', roll=4)"
   ]
  },
  {
   "cell_type": "code",
   "execution_count": 9,
   "metadata": {},
   "outputs": [
    {
     "data": {
      "text/plain": [
       "\n",
       "    -------------\n",
       "    | - | - | - |\n",
       "----------------------\n",
       "| - | - |    | - | - |\n",
       "--------      -------|\n",
       "| - |            | - |\n",
       "--------      -------|\n",
       "| - | - |    | - | red |\n",
       "----------------------\n",
       "    | - | - | - |\n",
       "    -------------\n",
       "player blue pieces in waiting area: 4 \n",
       "player blue home: - | - | - | -\n",
       "\n",
       "player green pieces in waiting area: 4 \n",
       "player green home: - | - | - | -\n",
       "\n",
       "player red pieces in waiting area: 3 \n",
       "player red home: - | - | - | -\n",
       "\n",
       "player yellow pieces in waiting area: 4 \n",
       "player yellow home: - | - | - | -"
      ]
     },
     "execution_count": 9,
     "metadata": {},
     "output_type": "execute_result"
    }
   ],
   "source": [
    "game.do('red', 'space_advance', roll=4, start=8)\n",
    "game.board"
   ]
  }
 ],
 "metadata": {
  "kernelspec": {
   "display_name": "Python 3",
   "language": "python",
   "name": "python3"
  },
  "language_info": {
   "codemirror_mode": {
    "name": "ipython",
    "version": 3
   },
   "file_extension": ".py",
   "mimetype": "text/x-python",
   "name": "python",
   "nbconvert_exporter": "python",
   "pygments_lexer": "ipython3",
   "version": "3.7.6"
  }
 },
 "nbformat": 4,
 "nbformat_minor": 2
}
