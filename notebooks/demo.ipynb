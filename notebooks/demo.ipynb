{
 "cells": [
  {
   "cell_type": "markdown",
   "metadata": {},
   "source": [
    "# Clovek ne jezi se (aka Mensch aergere dich nicht)\n",
    "\n"
   ]
  },
  {
   "cell_type": "code",
   "execution_count": null,
   "metadata": {},
   "outputs": [],
   "source": [
    "import numpy as np\n",
    "from random import randint\n",
    "\n",
    "import networkx as nx\n",
    "\n",
    "from clovek_ne_jezi_se.game_state import GameState\n",
    "from clovek_ne_jezi_se.client import Client\n",
    "from clovek_ne_jezi_se.agents import HumanPlayer\n",
    "from clovek_ne_jezi_se.utils import (\n",
    "    GraphQueryParams,\n",
    "    get_filtered_subgraph_view,\n",
    "    get_filtered_node_names\n",
    ")"
   ]
  },
  {
   "cell_type": "markdown",
   "metadata": {},
   "source": [
    "## Game client"
   ]
  },
  {
   "cell_type": "code",
   "execution_count": null,
   "metadata": {},
   "outputs": [],
   "source": [
    "player_names = ['red', 'blue', 'green', 'yellow']\n",
    "players = [HumanPlayer(name=name) for name in player_names]\n",
    "\n",
    "client = Client(players=players)\n",
    "client.initialize()\n",
    "client.get_game_state().draw()"
   ]
  },
  {
   "cell_type": "code",
   "execution_count": null,
   "metadata": {},
   "outputs": [],
   "source": [
    "client.play() "
   ]
  },
  {
   "cell_type": "markdown",
   "metadata": {},
   "source": [
    "## Graph operations from `utils`, under the hood of `GameState`\n",
    "\n",
    "The design approach of `GameState` is to hide the graph operations from its API by internally using graph query functions from `clovek_ne_jezi_se.utils`. These queries are parametrized via the container `GraphQueryParams` for node or edge queries, equality or inclusion queries for labeled components having a prescribed value."
   ]
  },
  {
   "cell_type": "code",
   "execution_count": null,
   "metadata": {},
   "outputs": [],
   "source": [
    "game_state = client.get_game_state()\n",
    "internal_graph = game_state._graph\n",
    "\n",
    "player_name = 'blue'\n",
    "player_subgraph_paramses =  [\n",
    "    GraphQueryParams(\n",
    "        graph_component='node', query_type='inclusion', label='allowed_occupants', value=player_name\n",
    "    ),\n",
    "    GraphQueryParams(\n",
    "        graph_component='edge', query_type='inclusion', label='allowed_traversers', value=player_name\n",
    "    )\n",
    "]\n",
    "      \n",
    "player_subgraph = get_filtered_subgraph_view(internal_graph, player_subgraph_paramses)\n",
    "nx.draw_circular(player_subgraph, with_labels=True)"
   ]
  }
 ],
 "metadata": {
  "kernelspec": {
   "display_name": "Python 3",
   "language": "python",
   "name": "python3"
  },
  "language_info": {
   "codemirror_mode": {
    "name": "ipython",
    "version": 3
   },
   "file_extension": ".py",
   "mimetype": "text/x-python",
   "name": "python",
   "nbconvert_exporter": "python",
   "pygments_lexer": "ipython3",
   "version": "3.7.6"
  }
 },
 "nbformat": 4,
 "nbformat_minor": 2
}
