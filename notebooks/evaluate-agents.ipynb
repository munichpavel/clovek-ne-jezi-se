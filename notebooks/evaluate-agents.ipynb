{
 "cells": [
  {
   "cell_type": "markdown",
   "metadata": {},
   "source": [
    "# Evaluate agent performance across runs in an experiment\n",
    "\n",
    "Using the [MLflow tracking API](https://www.mlflow.org/docs/latest/tracking.html)."
   ]
  },
  {
   "cell_type": "code",
   "execution_count": 1,
   "metadata": {},
   "outputs": [],
   "source": [
    "%config Completer.use_jedi = False\n",
    "import os\n",
    "from pathlib import Path\n",
    "from typing import Sequence\n",
    "import json\n",
    "\n",
    "import pandas as pd\n",
    "import numpy as np\n",
    "from scipy.stats import dirichlet, gamma\n",
    "\n",
    "import mlflow\n",
    "\n",
    "import matplotlib.pyplot as plt\n",
    "\n",
    "from clovek_ne_jezi_se.agents import FurthestAlongPlayer, RandomPlayer\n",
    "from clovek_ne_jezi_se.run_experiments import get_experiment_variables_from_config_dir"
   ]
  },
  {
   "cell_type": "markdown",
   "metadata": {},
   "source": [
    "## Helper functions\n",
    "\n",
    "E.g. convert run parameter dictionary into disjuntive (\"and\") filter query string, to be used with [mlflow.search_runs](https://mlflow.org/docs/latest/python_api/mlflow.html#mlflow.search_runs).\n",
    "\n",
    "TODO read in from json parameter file, rather than copy pasting dict from script?"
   ]
  },
  {
   "cell_type": "code",
   "execution_count": 2,
   "metadata": {},
   "outputs": [],
   "source": [
    "def dict_to_conjunctive_filter_equality_string(a_dict, tracking_type: str):\n",
    "    \"\"\"\n",
    "    Convert a dictionary of a given tracking type--params, metrics, tags--\n",
    "    to a conjunctive (i.e. 'and') filter string of equality conditions.\n",
    "    \n",
    "    Lists are converted to comma-separated strings.\n",
    "    \"\"\"\n",
    "    conditions = []\n",
    "    for key, value in a_dict.items():\n",
    "        if isinstance(value, list):\n",
    "            value = ','.join(value)\n",
    "        conditions.append(tracking_type + '.' + key + '=\"' + str(value) + '\"')\n",
    "    return \" and \".join(conditions)\n",
    "        \n",
    "    return (\n",
    "        \"params.agents = 'RandomPlayer,RandomPlayer,RandomPlayer,RandomPlayer'\"\n",
    "        \" and params.main_board_section_length = 1\"\n",
    "    )\n",
    "\n",
    "\n",
    "def get_int_value_counts_from_floats(series_of_floats: pd.Series) -> pd.Series:\n",
    "    counts = series_of_floats.value_counts(dropna=True)\n",
    "    # Convert index to ints\n",
    "    counts.index = counts.index.astype(int)\n",
    "    return counts\n",
    "\n",
    "def average_by_series_index_type(series: pd.Series, index_type_values: Sequence, type_name: str) -> pd.Series:\n",
    "    \"\"\"\n",
    "    Map index to index type values, and then average according to these values.\n",
    "    \n",
    "    The use case in mind is player win counts, which include the player order, but averaging\n",
    "    along the agent type of each player.\n",
    "    \"\"\"\n",
    "    index_sorted_series = series.sort_index()\n",
    "    res = index_sorted_series.to_frame()\n",
    "    res[type_name] = index_type_values\n",
    "    res = res.groupby(type_name).mean()\n",
    "    res = res.squeeze()\n",
    "    res.name = series.name\n",
    "    \n",
    "    return res\n",
    "    \n",
    "    \n",
    "    return pd.Series(data=[10,5], index=['oy', 'yadda'])\n",
    "\n",
    "\n",
    "# Tests\n",
    "\n",
    "def test_dict_to_conjunctive_filter_equality_string():\n",
    "    player_names = ['red', 'blue', 'green', 'yellow']\n",
    "    players = [RandomPlayer(name=name, print_game_state=False) for name in player_names]\n",
    "\n",
    "    main_board_section_length = 1\n",
    "    agents = [player.__class__.__name__ for player in players]\n",
    "\n",
    "    run_params = dict(\n",
    "        agents=','.join(agents),\n",
    "        main_board_section_length=main_board_section_length\n",
    "    )\n",
    "    \n",
    "    filter_string = dict_to_conjunctive_filter_equality_string(run_params, tracking_type='params')\n",
    "    expected = (\n",
    "        'params.agents=\"RandomPlayer,RandomPlayer,RandomPlayer,RandomPlayer\"'\n",
    "        ' and params.main_board_section_length=\"1\"'\n",
    "    )\n",
    "    try:\n",
    "        assert filter_string == expected\n",
    "    except AssertionError as err:\n",
    "        print(err, filter_string, ' is not ', expected)\n",
    "\n",
    "\n",
    "def test_get_int_value_counts_from_floats():\n",
    "    series = pd.Series([np.nan, 3.0, 0.0, 0.0])\n",
    "    expected = pd.Series(data=[2, 1], index=[0, 3])\n",
    "    res = get_int_value_counts_from_floats(series)\n",
    "    pd.testing.assert_series_equal(res, expected)\n",
    "    \n",
    "\n",
    "def test_average_by_series_index_type():\n",
    "    index_type_values = ['yadda', 'yadda', 'oy']\n",
    "    series = pd.Series(data=[10, 2, 4], index=[2,0,1], name='yiddish-counts')\n",
    "    type_name = 'agent'\n",
    "    \n",
    "    res = average_by_series_index_type(series, index_type_values, type_name=type_name)\n",
    "    expected = pd.Series(data=[10,3], index=['oy', 'yadda'], name='yiddish-counts')\n",
    "    expected.index.name = type_name\n",
    "    \n",
    "    pd.testing.assert_series_equal(res, expected)\n",
    "        \n",
    "test_dict_to_conjunctive_filter_equality_string()\n",
    "test_get_int_value_counts_from_floats()\n",
    "test_average_by_series_index_type()"
   ]
  },
  {
   "cell_type": "markdown",
   "metadata": {},
   "source": [
    "## Get winner counts\n",
    "\n",
    "First we define a filter query string, then use [mlflow.search_runs](https://mlflow.org/docs/latest/python_api/mlflow.html#mlflow.search_runs) to get run results as a pandas dataframe."
   ]
  },
  {
   "cell_type": "code",
   "execution_count": 3,
   "metadata": {},
   "outputs": [
    {
     "data": {
      "text/plain": [
       "[{'players': [{'name': '0',\n",
       "    'agent': 'RandomPlayer',\n",
       "    'kwargs': {'print_game_state': False}},\n",
       "   {'name': '1',\n",
       "    'agent': 'RandomPlayer',\n",
       "    'kwargs': {'print_game_state': False}},\n",
       "   {'name': '2',\n",
       "    'agent': 'RandomPlayer',\n",
       "    'kwargs': {'print_game_state': False}},\n",
       "   {'name': '3',\n",
       "    'agent': 'RandomPlayer',\n",
       "    'kwargs': {'print_game_state': False}}],\n",
       "  'board': {'main_board_section_length': 4,\n",
       "   'pieces_per_player': 4,\n",
       "   'number_of_dice_faces': 6},\n",
       "  'n_runs': 500}]"
      ]
     },
     "execution_count": 3,
     "metadata": {},
     "output_type": "execute_result"
    }
   ],
   "source": [
    "experiment_name = 'player-order'\n",
    "config_dir = Path(os.environ['EXPERIMENT_CONFIGS_DIR']) / experiment_name\n",
    "configs = []\n",
    "for f in config_dir.iterdir():\n",
    "    with open(f, 'r') as fp: \n",
    "        configs.append(json.load(fp))\n",
    "configs"
   ]
  },
  {
   "cell_type": "code",
   "execution_count": 4,
   "metadata": {},
   "outputs": [],
   "source": [
    "# Pick configuration values for experiment run filtering\n",
    "player_names = [str(n) for n in range(4)]\n",
    "agents = len(player_names) * ['RandomPlayer']\n",
    "run_params = dict(\n",
    "    agents=','.join(agents),\n",
    "    main_board_section_length=4,\n",
    "    pieces_per_player=4,\n",
    "    number_of_dice_faces=6,\n",
    ")\n",
    "filter_string = dict_to_conjunctive_filter_equality_string(run_params, 'params')\n",
    "# mlflow tracking api stuff seemingly must be run from parent directory of mlruns\n",
    "os.chdir(os.environ['RUNS_PARENT_DIR'])\n",
    "experiment_id = mlflow.get_experiment_by_name(experiment_name).experiment_id\n",
    "#experiment_id = '1'\n",
    "runs = mlflow.search_runs([experiment_id], filter_string=filter_string)"
   ]
  },
  {
   "cell_type": "code",
   "execution_count": 5,
   "metadata": {},
   "outputs": [
    {
     "name": "stdout",
     "output_type": "stream",
     "text": [
      "Winner counts\n",
      " 0    257\n",
      "2    257\n",
      "3    248\n",
      "1    238\n",
      "Name: metrics.winner_idx, dtype: int64\n"
     ]
    },
    {
     "data": {
      "image/png": "[encoded data removed]",
      "text/plain": [
       "<Figure size 576x288 with 1 Axes>"
      ]
     },
     "metadata": {
      "needs_background": "light"
     },
     "output_type": "display_data"
    }
   ],
   "source": [
    "winner_counts = get_int_value_counts_from_floats(runs['metrics.winner_idx'])\n",
    "names_with_play_order = [agents[idx] + '_' + str(idx) for idx in winner_counts.index]\n",
    "counts = winner_counts.values\n",
    "print('Winner counts\\n', winner_counts)\n",
    "\n",
    "# Plot\n",
    "fig, ax = plt.subplots(figsize=(8, 4))\n",
    "#top, bottom = ax\n",
    "ax.bar(names_with_play_order, counts)\n",
    "ax.set_title(f'Win count per player after {winner_counts.sum()} games');"
   ]
  },
  {
   "cell_type": "markdown",
   "metadata": {},
   "source": [
    "## Experiment analysis\n",
    "\n",
    "It seems likely that player order does not matter for $K=4$ random players on a small board after $N=1000$ rounds of play, but let's quantify this, as in Bishop's [Pattern Recognition and Machine Learning](https://www.springer.com/de/book/9780387310732) 2.2.\n",
    "\n",
    "The winner counts can be modeled as a [multinomial random variable](https://en.wikipedia.org/wiki/Multinomial_distribution) $M = (m_0, m_1, m_2, m_3)$ with probability distribution\n",
    "\n",
    "$$P(M = m) = \\frac{(\\sum m_k)!}{\\prod m_k!} \\mu_i^{m_k},$$\n",
    "\n",
    "where $p_i$ is the probability of player $k$ winning a game, so that $\\sum \\mu_k = 1$.\n",
    "\n",
    "The statement that player order does not matter reduces to $\\mu_k = 0.25$ for $k=0, \\ldots, 3$.\n",
    "\n",
    "We can estimate how likely the parameter setting $p_k = 0.25$ is using a Bayesian approach. The common prior for the multinomial is the [Dirichlet distribution](https://en.wikipedia.org/wiki/Dirichlet_distribution),\n",
    "\n",
    "$$P(m | \\alpha) = \\frac{\\Gamma\\left(\\sum \\alpha_k\\right)}{\\Gamma(\\alpha_0) \\cdot \\ldots \\cdot \\Gamma(\\alpha_3)} \\prod \\mu_i^{\\alpha_k - 1},$$\n",
    "\n",
    "where $\\Gamma(\\alpha)$ is the [Gamma function](https://en.wikipedia.org/wiki/Gamma_function).\n",
    "\n",
    "Hence the probability of $\\mu_0 = \\ldots = \\mu_3 = 0.25$ is given by subsituting the win-counts $m_0, \\ldots, m_3$ into\n",
    "\n",
    "$$P(\\mu | D, \\alpha) = \\frac{\\Gamma\\left(\\sum \\alpha_k + N \\right)}{\\Gamma(\\alpha_0 + m_0) \\ldots \\Gamma(\\alpha_3 + m_3) } \\prod_{k=0}^3 \\mu_k^{\\alpha_k + m_k - 1}$$"
   ]
  },
  {
   "cell_type": "code",
   "execution_count": 6,
   "metadata": {},
   "outputs": [
    {
     "name": "stdout",
     "output_type": "stream",
     "text": [
      "Likelihood ratio: 0.6108235961707239\n"
     ]
    }
   ],
   "source": [
    "m = counts\n",
    "alpha = np.array(4 * [2.])\n",
    "null_hypothesis_mu = np.array(4 * [0.25])  # I.e. player order makes no difference.\n",
    "empirical_mu = winner_counts / winner_counts.sum()\n",
    "likelihood_ratio = dirichlet.pdf(null_hypothesis_mu, alpha + m) / dirichlet.pdf(empirical_mu, alpha + m)\n",
    "print(f'Likelihood ratio: {likelihood_ratio}')"
   ]
  }
 ],
 "metadata": {
  "kernelspec": {
   "display_name": "Python 3",
   "language": "python",
   "name": "python3"
  },
  "language_info": {
   "codemirror_mode": {
    "name": "ipython",
    "version": 3
   },
   "file_extension": ".py",
   "mimetype": "text/x-python",
   "name": "python",
   "nbconvert_exporter": "python",
   "pygments_lexer": "ipython3",
   "version": "3.7.6"
  }
 },
 "nbformat": 4,
 "nbformat_minor": 4
}
