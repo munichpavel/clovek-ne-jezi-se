{
 "cells": [
  {
   "cell_type": "markdown",
   "metadata": {},
   "source": [
    "# Evaluate agent performance across runs in an experiment\n",
    "\n",
    "Using the [MLflow tracking API](https://www.mlflow.org/docs/latest/tracking.html)."
   ]
  },
  {
   "cell_type": "code",
   "execution_count": 1,
   "metadata": {},
   "outputs": [],
   "source": [
    "%config Completer.use_jedi = False\n",
    "import os\n",
    "from pathlib import Path\n",
    "from typing import Sequence\n",
    "\n",
    "import pandas as pd\n",
    "import numpy as np\n",
    "\n",
    "import mlflow\n",
    "\n",
    "import matplotlib.pyplot as plt\n",
    "\n",
    "from clovek_ne_jezi_se.agents import FurthestAlongPlayer, RandomPlayer"
   ]
  },
  {
   "cell_type": "markdown",
   "metadata": {},
   "source": [
    "## Helper functions\n",
    "\n",
    "E.g. convert run parameter dictionary into disjuntive (\"and\") filter query string, to be used with [mlflow.search_runs](https://mlflow.org/docs/latest/python_api/mlflow.html#mlflow.search_runs).\n",
    "\n",
    "TODO read in from json parameter file, rather than copy pasting dict from script?"
   ]
  },
  {
   "cell_type": "code",
   "execution_count": 2,
   "metadata": {},
   "outputs": [],
   "source": [
    "def dict_to_conjunctive_filter_equality_string(a_dict, tracking_type: str):\n",
    "    \"\"\"\n",
    "    Convert a dictionary of a given tracking type--params, metrics, tags--\n",
    "    to a conjunctive (i.e. 'and') filter string of equality conditions.\n",
    "    \n",
    "    Lists are converted to comma-separated strings.\n",
    "    \"\"\"\n",
    "    conditions = []\n",
    "    for key, value in a_dict.items():\n",
    "        if isinstance(value, list):\n",
    "            value = ','.join(value)\n",
    "        conditions.append(tracking_type + '.' + key + '=\"' + str(value) + '\"')\n",
    "    return \" and \".join(conditions)\n",
    "        \n",
    "    return (\n",
    "        \"params.agents = 'RandomPlayer,RandomPlayer,RandomPlayer,RandomPlayer'\"\n",
    "        \" and params.main_board_section_length = 1\"\n",
    "    )\n",
    "\n",
    "\n",
    "def get_int_value_counts_from_floats(series_of_floats: pd.Series) -> pd.Series:\n",
    "    counts = series_of_floats.value_counts(dropna=True)\n",
    "    # Convert index to ints\n",
    "    counts.index = counts.index.astype(int)\n",
    "    return counts\n",
    "\n",
    "def average_by_series_index_type(series: pd.Series, index_type_values: Sequence, type_name: str) -> pd.Series:\n",
    "    \"\"\"\n",
    "    Map index to index type values, and then average according to these values.\n",
    "    \n",
    "    The use case in mind is player win counts, which include the player order, but averaging\n",
    "    along the agent type of each player.\n",
    "    \"\"\"\n",
    "    index_sorted_series = series.sort_index()\n",
    "    res = index_sorted_series.to_frame()\n",
    "    res[type_name] = index_type_values\n",
    "    res = res.groupby(type_name).mean()\n",
    "    res = res.squeeze()\n",
    "    res.name = series.name\n",
    "    \n",
    "    return res\n",
    "    \n",
    "    \n",
    "    return pd.Series(data=[10,5], index=['oy', 'yadda'])\n",
    "\n",
    "\n",
    "# Tests\n",
    "\n",
    "def test_dict_to_conjunctive_filter_equality_string():\n",
    "    player_names = ['red', 'blue', 'green', 'yellow']\n",
    "    players = [RandomPlayer(name=name, print_game_state=False) for name in player_names]\n",
    "\n",
    "    main_board_section_length = 1\n",
    "    agents = [player.__class__.__name__ for player in players]\n",
    "\n",
    "    run_params = dict(\n",
    "        agents=','.join(agents),\n",
    "        main_board_section_length=main_board_section_length\n",
    "    )\n",
    "    \n",
    "    filter_string = dict_to_conjunctive_filter_equality_string(run_params, tracking_type='params')\n",
    "    expected = (\n",
    "        'params.agents=\"RandomPlayer,RandomPlayer,RandomPlayer,RandomPlayer\"'\n",
    "        ' and params.main_board_section_length=\"1\"'\n",
    "    )\n",
    "    try:\n",
    "        assert filter_string == expected\n",
    "    except AssertionError as err:\n",
    "        print(err, filter_string, ' is not ', expected)\n",
    "\n",
    "\n",
    "def test_get_int_value_counts_from_floats():\n",
    "    series = pd.Series([np.nan, 3.0, 0.0, 0.0])\n",
    "    expected = pd.Series(data=[2, 1], index=[0, 3])\n",
    "    res = get_int_value_counts_from_floats(series)\n",
    "    pd.testing.assert_series_equal(res, expected)\n",
    "    \n",
    "\n",
    "def test_average_by_series_index_type():\n",
    "    index_type_values = ['yadda', 'yadda', 'oy']\n",
    "    series = pd.Series(data=[10, 2, 4], index=[2,0,1], name='yiddish-counts')\n",
    "    type_name = 'agent'\n",
    "    \n",
    "    res = average_by_series_index_type(series, index_type_values, type_name=type_name)\n",
    "    expected = pd.Series(data=[10,3], index=['oy', 'yadda'], name='yiddish-counts')\n",
    "    expected.index.name = type_name\n",
    "    \n",
    "    pd.testing.assert_series_equal(res, expected)\n",
    "        \n",
    "test_dict_to_conjunctive_filter_equality_string()\n",
    "test_get_int_value_counts_from_floats()\n",
    "test_average_by_series_index_type()"
   ]
  },
  {
   "cell_type": "markdown",
   "metadata": {},
   "source": [
    "## Get winner counts\n",
    "\n",
    "Based on runs of `scripts/play.py`.\n",
    "\n",
    "First we define a filter query string, then use [mlflow.search_runs](https://mlflow.org/docs/latest/python_api/mlflow.html#mlflow.search_runs) to get run results as a pandas dataframe."
   ]
  },
  {
   "cell_type": "code",
   "execution_count": 3,
   "metadata": {},
   "outputs": [],
   "source": [
    "main_board_section_length = 10\n",
    "pieces_per_player = 4\n",
    "number_of_dice_faces = 6"
   ]
  },
  {
   "cell_type": "code",
   "execution_count": 4,
   "metadata": {},
   "outputs": [
    {
     "data": {
      "image/png": "[encoded data removed]",
      "text/plain": [
       "<Figure size 576x576 with 2 Axes>"
      ]
     },
     "metadata": {
      "needs_background": "light"
     },
     "output_type": "display_data"
    }
   ],
   "source": [
    "player_names = ['blue', 'green', 'yellow']\n",
    "players = (\n",
    "    [FurthestAlongPlayer(name='red')] + \n",
    "    [RandomPlayer(name=name, print_game_state=False) for name in player_names]\n",
    ")\n",
    "\n",
    "players = (\n",
    "    [RandomPlayer(name=name, print_game_state=False) for name in player_names]\n",
    "     + [FurthestAlongPlayer(name='red')]\n",
    ")\n",
    "\n",
    "\n",
    "\n",
    "agents = [player.__class__.__name__ for player in players]\n",
    "\n",
    "run_params = dict(\n",
    "    agents=','.join(agents),\n",
    "    main_board_section_length=main_board_section_length,\n",
    "    pieces_per_player=pieces_per_player,\n",
    "    number_of_dice_faces=number_of_dice_faces\n",
    ")\n",
    "filter_string = dict_to_conjunctive_filter_equality_string(run_params, 'params')\n",
    "\n",
    "# mlflow.search_runs seemingly must be run from parent directory of mlruns\n",
    "os.chdir(os.environ['RUNS_PARENT_DIR'])\n",
    "runs = mlflow.search_runs(filter_string=filter_string)\n",
    "\n",
    "winner_counts = get_int_value_counts_from_floats(runs['metrics.winner_idx'])\n",
    "names_with_play_order = [agents[idx] + '_' + str(idx) for idx in winner_counts.index]\n",
    "counts = winner_counts.values\n",
    "\n",
    "# Per agent average wins\n",
    "agent_averages = average_by_series_index_type(winner_counts, agents, type_name='agent')\n",
    "\n",
    "# Plot\n",
    "fix, ax = plt.subplots(2,1, figsize=(8,8))\n",
    "top, bottom = ax\n",
    "top.bar(names_with_play_order, counts)\n",
    "top.set_title(f'Win count per player after {winner_counts.sum()} games')\n",
    "\n",
    "\n",
    "bottom.bar(agent_averages.index, agent_averages.values)\n",
    "bottom.set_title(f'Average wins per agent');"
   ]
  }
 ],
 "metadata": {
  "kernelspec": {
   "display_name": "Python 3",
   "language": "python",
   "name": "python3"
  },
  "language_info": {
   "codemirror_mode": {
    "name": "ipython",
    "version": 3
   },
   "file_extension": ".py",
   "mimetype": "text/x-python",
   "name": "python",
   "nbconvert_exporter": "python",
   "pygments_lexer": "ipython3",
   "version": "3.7.6"
  }
 },
 "nbformat": 4,
 "nbformat_minor": 4
}
