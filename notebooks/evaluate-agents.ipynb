{
 "cells": [
  {
   "cell_type": "markdown",
   "metadata": {},
   "source": [
    "# Evaluate agent performance across runs in an experiment\n",
    "\n",
    "Using the [MLflow tracking API](https://www.mlflow.org/docs/latest/tracking.html)."
   ]
  },
  {
   "cell_type": "code",
   "execution_count": 1,
   "metadata": {},
   "outputs": [],
   "source": [
    "%config Completer.use_jedi = False\n",
    "import os\n",
    "from pathlib import Path\n",
    "\n",
    "import mlflow\n",
    "\n",
    "import matplotlib.pyplot as plt\n",
    "\n",
    "from clovek_ne_jezi_se.agents import RandomPlayer"
   ]
  },
  {
   "cell_type": "markdown",
   "metadata": {},
   "source": [
    "## Helper function\n",
    "\n",
    "Convert run parameter dictionary into disjuntive (\"and\") filter query string, to be used with [mlflow.search_runs](https://mlflow.org/docs/latest/python_api/mlflow.html#mlflow.search_runs).\n",
    "\n",
    "TODO read in from json parameter file, rather than copy pasting dict from script?"
   ]
  },
  {
   "cell_type": "code",
   "execution_count": 2,
   "metadata": {},
   "outputs": [],
   "source": [
    "def dict_to_conjunctive_filter_equality_string(a_dict, tracking_type: str):\n",
    "    \"\"\"\n",
    "    Convert a dictionary of a given tracking type--params, metrics, tags--\n",
    "    to a conjunctive (i.e. 'and') filter string of equality conditions.\n",
    "    \n",
    "    Lists are converted to comma-separated strings.\n",
    "    \"\"\"\n",
    "    conditions = []\n",
    "    for key, value in a_dict.items():\n",
    "        if isinstance(value, list):\n",
    "            value = ','.join(value)\n",
    "        conditions.append(tracking_type + '.' + key + '=\"' + str(value) + '\"')\n",
    "    return \" and \".join(conditions)\n",
    "        \n",
    "    return (\n",
    "        \"params.agents = 'RandomPlayer,RandomPlayer,RandomPlayer,RandomPlayer'\"\n",
    "        \" and params.main_board_section_length = 1\"\n",
    "    )\n",
    "\n",
    "def test_dict_to_conjunctive_filter_equality_string():\n",
    "    player_names = ['red', 'blue', 'green', 'yellow']\n",
    "    players = [RandomPlayer(name=name, print_game_state=False) for name in player_names]\n",
    "\n",
    "    main_board_section_length = 1\n",
    "    agents = [player.__class__.__name__ for player in players]\n",
    "\n",
    "    run_params = dict(\n",
    "        agents=','.join(agents),\n",
    "        main_board_section_length=main_board_section_length\n",
    "    )\n",
    "    \n",
    "    filter_string = dict_to_conjunctive_filter_equality_string(run_params, tracking_type='params')\n",
    "    expected = (\n",
    "        'params.agents=\"RandomPlayer,RandomPlayer,RandomPlayer,RandomPlayer\"'\n",
    "        ' and params.main_board_section_length=\"1\"'\n",
    "    )\n",
    "    try:\n",
    "        assert filter_string == expected\n",
    "    except AssertionError as err:\n",
    "        print(err, filter_string, ' is not ', expected)\n",
    "    \n",
    "test_dict_to_conjunctive_filter_equality_string()"
   ]
  },
  {
   "cell_type": "markdown",
   "metadata": {},
   "source": [
    "## Get winner counts\n",
    "\n",
    "Based on runs of `scripts/play.py`.\n",
    "\n",
    "First we define a filter query string, then use [mlflow.search_runs](https://mlflow.org/docs/latest/python_api/mlflow.html#mlflow.search_runs) to get run results as a pandas dataframe."
   ]
  },
  {
   "cell_type": "code",
   "execution_count": 3,
   "metadata": {
    "scrolled": true
   },
   "outputs": [
    {
     "data": {
      "text/plain": [
       "1    31\n",
       "0    24\n",
       "3    24\n",
       "2    21\n",
       "Name: metrics.winner_idx, dtype: int64"
      ]
     },
     "execution_count": 3,
     "metadata": {},
     "output_type": "execute_result"
    }
   ],
   "source": [
    "player_names = ['red', 'blue', 'green', 'yellow']\n",
    "players = [RandomPlayer(name=name, print_game_state=False) for name in player_names]\n",
    "\n",
    "main_board_section_length = 1\n",
    "pieces_per_player = 4\n",
    "number_of_dice_faces = 6\n",
    "agents = [player.__class__.__name__ for player in players]\n",
    "\n",
    "run_params = dict(\n",
    "    agents=','.join(agents),\n",
    "    main_board_section_length=main_board_section_length,\n",
    "    pieces_per_player=pieces_per_player,\n",
    "    number_of_dice_faces=number_of_dice_faces\n",
    ")\n",
    "filter_string = dict_to_conjunctive_filter_equality_string(run_params, 'params')\n",
    "\n",
    "# mlflow.search_runs seemingly must be run from parent directory of mlruns\n",
    "os.chdir(os.environ['RUNS_PARENT_DIR'])\n",
    "runs = mlflow.search_runs(filter_string=filter_string)\n",
    "\n",
    "# Remove runs with no winner\n",
    "mask_winner_isna = runs['metrics.winner_idx'].isna()\n",
    "runs = runs[~mask_winner_isna]\n",
    "winner_idxes = runs['metrics.winner_idx'].astype(int)\n",
    "\n",
    "# Calculate winner counts\n",
    "winner_counts = winner_idxes.value_counts()\n",
    "names = [agents[idx] + '_' + str(idx) for idx in winner_counts.index]\n",
    "counts = winner_counts.values.astype(int)\n",
    "winner_counts"
   ]
  },
  {
   "cell_type": "code",
   "execution_count": 4,
   "metadata": {},
   "outputs": [
    {
     "data": {
      "image/png": "[encoded data removed]",
      "text/plain": [
       "<Figure size 576x216 with 1 Axes>"
      ]
     },
     "metadata": {
      "needs_background": "light"
     },
     "output_type": "display_data"
    }
   ],
   "source": [
    "plt.figure(figsize=(8,3))\n",
    "plt.bar(names, counts)\n",
    "plt.title(f'Win count per agent after {winner_counts.sum()} games')\n",
    "plt.xticks(names, names);"
   ]
  }
 ],
 "metadata": {
  "kernelspec": {
   "display_name": "Python 3",
   "language": "python",
   "name": "python3"
  },
  "language_info": {
   "codemirror_mode": {
    "name": "ipython",
    "version": 3
   },
   "file_extension": ".py",
   "mimetype": "text/x-python",
   "name": "python",
   "nbconvert_exporter": "python",
   "pygments_lexer": "ipython3",
   "version": "3.7.6"
  }
 },
 "nbformat": 4,
 "nbformat_minor": 4
}
