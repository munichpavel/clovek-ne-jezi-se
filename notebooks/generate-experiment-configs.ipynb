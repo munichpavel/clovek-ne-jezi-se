{
 "cells": [
  {
   "cell_type": "markdown",
   "id": "sharing-iceland",
   "metadata": {},
   "source": [
    "# Generate experiment configurations"
   ]
  },
  {
   "cell_type": "code",
   "execution_count": null,
   "id": "varied-beads",
   "metadata": {},
   "outputs": [],
   "source": [
    "%config Completer.use_jedi = False\n",
    "import os\n",
    "from pathlib import Path\n",
    "from copy import copy\n",
    "import json"
   ]
  },
  {
   "cell_type": "code",
   "execution_count": null,
   "id": "aerial-brooklyn",
   "metadata": {},
   "outputs": [],
   "source": [
    "config_base_dir = Path(os.environ['PROJECT_ROOT']) / 'experiment-configs'"
   ]
  },
  {
   "cell_type": "markdown",
   "id": "subsequent-republican",
   "metadata": {},
   "source": [
    "## Test effect of player order"
   ]
  },
  {
   "cell_type": "code",
   "execution_count": null,
   "id": "floppy-pendant",
   "metadata": {},
   "outputs": [],
   "source": [
    "experiment_name = 'player-order'\n",
    "config_dir = config_base_dir / experiment_name\n",
    "config_dir.mkdir(parents=True, exist_ok=True)"
   ]
  },
  {
   "cell_type": "code",
   "execution_count": null,
   "id": "loved-upset",
   "metadata": {},
   "outputs": [],
   "source": [
    "# Create player order conbinations\n",
    "kwargs = dict(print_to_screen=False)\n",
    "player_names = ['red', 'blue', 'green', 'yellow']\n",
    "base_players = [dict(name=name, agent='HumanPlayer', kwargs=kwargs) for name in player_names]\n",
    "\n",
    "player_order_combinations = []\n",
    "other_player = dict(agent='FurthestAlongPlayer', kwargs=kwargs)\n",
    "for idx in range(len(base_players)):\n",
    "    players = copy(base_players)\n",
    "    other_player = dict(name=base_players[idx]['name'], agent='FurthestAlongPlayer', kwargs=kwargs)\n",
    "    players[idx] = other_player\n",
    "    player_order_combinations.append(players)\n",
    "    \n",
    "# Set other config values\n",
    "board=dict(\n",
    "    main_board_section_length=4,\n",
    "    pieces_per_player=4,\n",
    "    number_of_dice_faces=6\n",
    ")\n",
    "n_runs = 1\n",
    "\n",
    "# Write to disk\n",
    "for idx, players in enumerate(player_order_combinations):\n",
    "    config_dict = dict(\n",
    "        players=players,\n",
    "        board=board,\n",
    "        n_runs=n_runs   \n",
    "    )\n",
    "    with open(config_dir / (str(idx) + '.json'), 'w') as fp:\n",
    "        json.dump(config_dict, fp, indent=2)"
   ]
  }
 ],
 "metadata": {
  "kernelspec": {
   "display_name": "Python 3",
   "language": "python",
   "name": "python3"
  },
  "language_info": {
   "codemirror_mode": {
    "name": "ipython",
    "version": 3
   },
   "file_extension": ".py",
   "mimetype": "text/x-python",
   "name": "python",
   "nbconvert_exporter": "python",
   "pygments_lexer": "ipython3",
   "version": "3.7.6"
  }
 },
 "nbformat": 4,
 "nbformat_minor": 5
}
