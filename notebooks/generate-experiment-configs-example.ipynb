{
 "cells": [
  {
   "cell_type": "markdown",
   "id": "sharing-iceland",
   "metadata": {},
   "source": [
    "# Generate experiment configurations"
   ]
  },
  {
   "cell_type": "code",
   "execution_count": null,
   "id": "varied-beads",
   "metadata": {},
   "outputs": [],
   "source": [
    "%config Completer.use_jedi = False\n",
    "import os\n",
    "from pathlib import Path\n",
    "from copy import copy\n",
    "import json"
   ]
  },
  {
   "cell_type": "code",
   "execution_count": null,
   "id": "aerial-brooklyn",
   "metadata": {},
   "outputs": [],
   "source": [
    "config_base_dir = Path(os.environ['PROJECT_ROOT']) / 'experiment-configs'"
   ]
  },
  {
   "cell_type": "markdown",
   "id": "subsequent-republican",
   "metadata": {},
   "source": [
    "## Test effect of player order"
   ]
  },
  {
   "cell_type": "code",
   "execution_count": null,
   "id": "floppy-pendant",
   "metadata": {},
   "outputs": [],
   "source": [
    "experiment_name = 'player-order'\n",
    "config_dir = config_base_dir / experiment_name\n",
    "config_dir.mkdir(parents=True, exist_ok=True)\n",
    "\n",
    "# Clear existing contents of config directory\n",
    "for f in config_dir.iterdir():\n",
    "    f.unlink()\n",
    "    \n",
    "# Create player order\n",
    "kwargs = dict(print_game_state=False)\n",
    "\n",
    "player_names = [str(n) for n in range(4)]\n",
    "players = [dict(name=name, agent='RandomPlayer', kwargs=kwargs) for name in player_names]\n",
    "player_orders = [players]\n",
    "\n",
    "# Set other config values\n",
    "board=dict(\n",
    "    main_board_section_length=4,\n",
    "    pieces_per_player=4,\n",
    "    number_of_dice_faces=6\n",
    ")\n",
    "n_runs = 500\n",
    "\n",
    "# Write to disk\n",
    "for idx, players in enumerate(player_orders):\n",
    "    config_dict = dict(\n",
    "        players=players,\n",
    "        board=board,\n",
    "        n_runs=n_runs   \n",
    "    )\n",
    "    with open(config_dir / (str(idx) + '.json'), 'w') as fp:\n",
    "        json.dump(config_dict, fp, indent=2)"
   ]
  }
 ],
 "metadata": {
  "kernelspec": {
   "display_name": "Python 3",
   "language": "python",
   "name": "python3"
  },
  "language_info": {
   "codemirror_mode": {
    "name": "ipython",
    "version": 3
   },
   "file_extension": ".py",
   "mimetype": "text/x-python",
   "name": "python",
   "nbconvert_exporter": "python",
   "pygments_lexer": "ipython3",
   "version": "3.7.6"
  }
 },
 "nbformat": 4,
 "nbformat_minor": 5
}
